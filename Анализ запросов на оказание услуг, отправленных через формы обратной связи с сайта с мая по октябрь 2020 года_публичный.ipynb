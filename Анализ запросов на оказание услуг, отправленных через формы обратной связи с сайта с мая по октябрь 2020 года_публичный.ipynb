{
 "cells": [
  {
   "cell_type": "markdown",
   "metadata": {},
   "source": [
    "# Анализ запросов на оказание услуг, отправленных через формы обратной связи с сайта за май-октябрь 2020 года"
   ]
  },
  {
   "cell_type": "markdown",
   "metadata": {},
   "source": [
    "# Содержание\n",
    "\n",
    "- [Описание проекта](#obj)\n",
    "- [Выводы](#conclu)\n",
    "- [Анализ обращений через сайт](#sit)\n",
    "- [Анализ возможностей](#opp)\n",
    "- [Анализ конверсий](#con)\n",
    "- [Воронки коверсий](#fun)"
   ]
  },
  {
   "cell_type": "markdown",
   "metadata": {},
   "source": [
    "<a id=\"obj\"></a>\n",
    "\n",
    "# Описание проекта\n",
    "\n",
    "1. Проанализированы обращения клиентов через сайт: по типу запроса, запрашиваемой услуге, отрасли компании, должности обращающегося \n",
    "2. Определен список клиентов, пришедших с сайта по списку возможностей из CRM за тот же период\n",
    "3. Расчитана помесячная конверсия:\n",
    "    - посещений в запрос\n",
    "    - запросов в возможность\n",
    "    - возможность в выигранную возможность\n",
    "4. Расчитана воронка конверсий по усредненным данным "
   ]
  },
  {
   "cell_type": "code",
   "execution_count": null,
   "metadata": {},
   "outputs": [],
   "source": [
    "import pandas as pd\n",
    "import numpy as np\n",
    "from scipy import stats as st\n",
    "import math as mth\n",
    "import matplotlib.pyplot as plt \n",
    "import plotly.express as px\n",
    "from plotly import graph_objects as go\n",
    "\n",
    "import texthero as hero\n",
    "from texthero import preprocessing\n",
    "\n",
    "import warnings\n",
    "warnings.simplefilter('ignore')"
   ]
  },
  {
   "cell_type": "markdown",
   "metadata": {},
   "source": [
    "<a id=\"sit\"></a>\n",
    "\n",
    "# Анализ обращений через сайт"
   ]
  },
  {
   "cell_type": "markdown",
   "metadata": {},
   "source": [
    "Таблица с обращениями `rfp_05_09_20.xlsx`"
   ]
  },
  {
   "cell_type": "code",
   "execution_count": null,
   "metadata": {},
   "outputs": [],
   "source": [
    "rfp = pd.read_excel('/Users/Olga/Site_rfp/rfp_05_09_20.xlsx')"
   ]
  },
  {
   "cell_type": "code",
   "execution_count": null,
   "metadata": {},
   "outputs": [],
   "source": [
    "rfp.to_csv('rfp.csv', encoding='utf-8', index=False)"
   ]
  },
  {
   "cell_type": "code",
   "execution_count": null,
   "metadata": {},
   "outputs": [],
   "source": [
    "rfp.info()"
   ]
  },
  {
   "cell_type": "code",
   "execution_count": null,
   "metadata": {},
   "outputs": [],
   "source": [
    "rfp.sample(3)"
   ]
  },
  {
   "cell_type": "markdown",
   "metadata": {},
   "source": [
    "Преобразуем данные в колонке `Дата изм.` в формат datetime, создадим новую колонку `Дата` из нее выделим отдельный столбец `Месяц` с месяцем обращения"
   ]
  },
  {
   "cell_type": "code",
   "execution_count": null,
   "metadata": {},
   "outputs": [],
   "source": [
    "rfp['Дата'] = pd.to_datetime(rfp['Дата изм.'], format='%d.%m.%Y %H:%M:%S',infer_datetime_format=True)\n",
    "\n",
    "rfp['Месяц'] = rfp['Дата'].dt.month"
   ]
  },
  {
   "cell_type": "markdown",
   "metadata": {},
   "source": [
    "### Общее количество обращений в мае-октябре"
   ]
  },
  {
   "cell_type": "code",
   "execution_count": null,
   "metadata": {
    "scrolled": false
   },
   "outputs": [],
   "source": [
    "pivot_table_by_month_total = rfp.pivot_table(rfp,index=['Месяц'], aggfunc={'ID': 'nunique'}).reset_index()\n",
    "pivot_table_by_month_total.columns=['Месяц', 'Количество обращений']\n",
    "pivot_table_by_month_total.sort_values(by = 'Количество обращений', ascending = False).head(10)"
   ]
  },
  {
   "cell_type": "markdown",
   "metadata": {},
   "source": [
    "### Количество обращений, в среднем"
   ]
  },
  {
   "cell_type": "code",
   "execution_count": null,
   "metadata": {},
   "outputs": [],
   "source": [
    "pivot_table_by_month_total['Количество обращений'].mean()"
   ]
  },
  {
   "cell_type": "markdown",
   "metadata": {},
   "source": [
    "### Количество обращений в штуках, по месяцам, график"
   ]
  },
  {
   "cell_type": "code",
   "execution_count": null,
   "metadata": {
    "scrolled": false
   },
   "outputs": [],
   "source": [
    "fig = px.bar(pivot_table_by_month_total, x=\"Месяц\", y=\"Количество обращений\", text=\"Количество обращений\", title=\"Количество обращений в месяц\")\n",
    "fig.show()"
   ]
  },
  {
   "cell_type": "markdown",
   "metadata": {},
   "source": [
    "### Наиболее популярный запрос"
   ]
  },
  {
   "cell_type": "code",
   "execution_count": null,
   "metadata": {},
   "outputs": [],
   "source": [
    "rfp['Тема обращения'].unique()"
   ]
  },
  {
   "cell_type": "code",
   "execution_count": null,
   "metadata": {},
   "outputs": [],
   "source": [
    "pivot_table_by_subject = rfp.pivot_table(rfp,index=['Тема обращения'], aggfunc={'ID': 'nunique'}).reset_index()\n",
    "pivot_table_by_subject.columns=['Тема обращения', 'Количество обращений']\n",
    "pivot_table_by_subject = pivot_table_by_subject.sort_values(by = 'Количество обращений', ascending = False)\n",
    "\n",
    "\n",
    "unique = pivot_table_by_subject['Количество обращений'].sum()\n",
    "pivot_table_by_subject['% от количества обращений'] = ((pivot_table_by_subject['Количество обращений'] / unique)*100)\n",
    "\n",
    "\n",
    "pivot_table_by_subject.head(10).style.background_gradient(cmap='plasma')"
   ]
  },
  {
   "cell_type": "markdown",
   "metadata": {},
   "source": [
    "### Наиболее популярная услуга"
   ]
  },
  {
   "cell_type": "code",
   "execution_count": null,
   "metadata": {},
   "outputs": [],
   "source": [
    "pivot_table_by_services = rfp.pivot_table(rfp,index=['Услуга'], aggfunc={'ID': 'nunique'}).reset_index()\n",
    "pivot_table_by_services.columns=['Услуга', 'Количество обращений']\n",
    "pivot_table_by_services = pivot_table_by_services.sort_values(by = 'Количество обращений', ascending = False)\n",
    "\n",
    "pivot_table_by_services.head(10).style.background_gradient(cmap='plasma')"
   ]
  },
  {
   "cell_type": "markdown",
   "metadata": {},
   "source": [
    "### Интерактивный график: количество обращений в разрезе запрашиваемой услуги "
   ]
  },
  {
   "cell_type": "code",
   "execution_count": null,
   "metadata": {},
   "outputs": [],
   "source": [
    "fig = px.pie(pivot_table_by_services, values='Количество обращений', names='Услуга', title='Количество обращений в разрезе запрашиваемой услуги')\n",
    "fig.show()"
   ]
  },
  {
   "cell_type": "markdown",
   "metadata": {},
   "source": [
    "### Самая частая должность обращающегося: главный бухгалтер"
   ]
  },
  {
   "cell_type": "code",
   "execution_count": null,
   "metadata": {},
   "outputs": [],
   "source": [
    "unique_position = rfp['Должность'].count()\n",
    "unique_position"
   ]
  },
  {
   "cell_type": "code",
   "execution_count": null,
   "metadata": {
    "scrolled": false
   },
   "outputs": [],
   "source": [
    "pivot_table_by_position = rfp.pivot_table(rfp,index=['Должность'], aggfunc={'ID': 'nunique'}).reset_index()\n",
    "pivot_table_by_position.columns=['Должность', 'Количество обращений']\n",
    "\n",
    "unique_position = rfp['Должность'].count()\n",
    "pivot_table_by_position['% от количества обращений'] = ((pivot_table_by_position['Количество обращений'] / unique_position )*100)\n",
    "\n",
    "pivot_table_by_position.sort_values(by = 'Количество обращений', ascending = False).head(10).style.background_gradient(cmap='plasma')\n"
   ]
  },
  {
   "cell_type": "markdown",
   "metadata": {},
   "source": [
    "### Список должностей обращающихся через сайт"
   ]
  },
  {
   "cell_type": "code",
   "execution_count": null,
   "metadata": {},
   "outputs": [],
   "source": [
    "rfp['Должность'].unique()"
   ]
  },
  {
   "cell_type": "markdown",
   "metadata": {},
   "source": [
    "### Количество обращений по услугам в месяц"
   ]
  },
  {
   "cell_type": "code",
   "execution_count": null,
   "metadata": {},
   "outputs": [],
   "source": [
    "pivot_table_by_month = rfp.pivot_table(rfp,index=['Месяц', 'Услуга'], aggfunc={'ID': 'nunique'}).reset_index()\n",
    "pivot_table_by_month.columns=['Месяц', 'Услуга', 'Количество обращений']\n",
    "pivot_table_by_month = pivot_table_by_month.sort_values(by = 'Количество обращений', ascending = False)\n",
    "\n",
    "pivot_table_by_month.head(10).style.background_gradient(cmap='plasma')"
   ]
  },
  {
   "cell_type": "markdown",
   "metadata": {},
   "source": [
    "#### Помесячный интерактивный график обращений в разрезе запрашиваемой услуги"
   ]
  },
  {
   "cell_type": "code",
   "execution_count": null,
   "metadata": {
    "scrolled": false
   },
   "outputs": [],
   "source": [
    "fig = px.bar(pivot_table_by_month, x=\"Месяц\", y=\"Количество обращений\", color=\"Услуга\", title=\"Количество обращений в месяц в разрезе услуг\", width=900, height=600)\n",
    "fig.show()"
   ]
  },
  {
   "cell_type": "markdown",
   "metadata": {},
   "source": [
    "### Количество обращений по партнерам"
   ]
  },
  {
   "cell_type": "code",
   "execution_count": null,
   "metadata": {},
   "outputs": [],
   "source": [
    "pivot_table_by_person = rfp.pivot_table(rfp,index=['Эксперт'], aggfunc={'ID': 'nunique'}).reset_index()\n",
    "pivot_table_by_person.columns=['Эксперт', 'Количество обращений']\n",
    "pivot_table_by_person = pivot_table_by_person.sort_values(by = 'Количество обращений', ascending = False)\n",
    "\n",
    "pivot_table_by_person.head(10).style.background_gradient(cmap='plasma')"
   ]
  },
  {
   "cell_type": "code",
   "execution_count": null,
   "metadata": {
    "scrolled": false
   },
   "outputs": [],
   "source": [
    "fig = px.pie(pivot_table_by_person, values='Количество обращений', names='Эксперт', title='Количество обращений по партнерам')\n",
    "fig.show()\n"
   ]
  },
  {
   "cell_type": "markdown",
   "metadata": {},
   "source": [
    "### Количество обращений по отраслям"
   ]
  },
  {
   "cell_type": "code",
   "execution_count": null,
   "metadata": {
    "scrolled": false
   },
   "outputs": [],
   "source": [
    "pivot_table_by_industries = rfp.pivot_table(rfp,index=['Отрасль'], aggfunc={'ID': 'nunique'}).reset_index()\n",
    "pivot_table_by_industries.columns=['Отрасль компании', 'Количество обращений']\n",
    "pivot_table_by_industries = pivot_table_by_industries.sort_values(by = 'Количество обращений', ascending = False)\n",
    "\n",
    "pivot_table_by_industries.head(5).style.background_gradient(cmap='plasma')"
   ]
  },
  {
   "cell_type": "code",
   "execution_count": null,
   "metadata": {},
   "outputs": [],
   "source": [
    "unique_ID = pivot_table_by_industries['Количество обращений'].sum()\n",
    "pivot_table_by_industries['% от количества обращений'] = ((pivot_table_by_industries['Количество обращений'] / unique_ID*100).round(2))"
   ]
  },
  {
   "cell_type": "code",
   "execution_count": null,
   "metadata": {},
   "outputs": [],
   "source": [
    "fig = px.pie(pivot_table_by_industries, values='Количество обращений', names='Отрасль компании', title='Количество обращений по отрасли компании')\n",
    "fig.show()"
   ]
  },
  {
   "cell_type": "markdown",
   "metadata": {},
   "source": [
    "<a id=\"opp\"></a>\n",
    "# Анализ возможностей"
   ]
  },
  {
   "cell_type": "markdown",
   "metadata": {},
   "source": [
    "Загрузим таблицу `opportunities` с данными о новых возможностях из CRM за май-октябрь 2020 года"
   ]
  },
  {
   "cell_type": "code",
   "execution_count": null,
   "metadata": {},
   "outputs": [],
   "source": [
    "opportunities = pd.read_excel('/Users/Olga/First attempt in Py/Site_rfp/opportunities_05_09_20.xlsx')"
   ]
  },
  {
   "cell_type": "code",
   "execution_count": null,
   "metadata": {},
   "outputs": [],
   "source": [
    "opportunities.to_csv('traffic.csv', encoding='utf-8', index=False)"
   ]
  },
  {
   "cell_type": "code",
   "execution_count": null,
   "metadata": {},
   "outputs": [],
   "source": [
    "opportunities.info()"
   ]
  },
  {
   "cell_type": "markdown",
   "metadata": {},
   "source": [
    "### Возможности по статусу"
   ]
  },
  {
   "cell_type": "code",
   "execution_count": null,
   "metadata": {},
   "outputs": [],
   "source": [
    "opportunities.pivot_table(opportunities,index=['Статус'], aggfunc={'Организация': 'nunique'})"
   ]
  },
  {
   "cell_type": "markdown",
   "metadata": {},
   "source": [
    "Отсортируем возможности из CRM по вхождению названия компании в столбец `Компания` из данных запросов с сайта. Для этого подготовим столбцы с названиями компаний, очистив данные от знаков, цифр, пунктуации, пробелов."
   ]
  },
  {
   "cell_type": "code",
   "execution_count": null,
   "metadata": {},
   "outputs": [],
   "source": [
    "custom_pipeline = [preprocessing.fillna\n",
    "                   , preprocessing.lowercase\n",
    "                   , preprocessing.remove_digits\n",
    "                   , preprocessing.remove_punctuation\n",
    "                   , preprocessing.remove_whitespace\n",
    "                   , preprocessing.stem]\n",
    "                  \n",
    "rfp['Компания_чистая'] = hero.clean(rfp['Компания'], custom_pipeline)\n",
    "opportunities['Организация_чистая'] = hero.clean(opportunities['Организация'], custom_pipeline)"
   ]
  },
  {
   "cell_type": "markdown",
   "metadata": {},
   "source": [
    "Сформируем список компаний, написавших запрос через сайт"
   ]
  },
  {
   "cell_type": "code",
   "execution_count": null,
   "metadata": {},
   "outputs": [],
   "source": [
    "list_companies = rfp['Компания_чистая']"
   ]
  },
  {
   "cell_type": "markdown",
   "metadata": {},
   "source": [
    "Сделаем срез таблицы с выгруженными из ZOOM возможностями по полученному списку `list_companies`, сравнив вхождение в столбец `Организация_чистая`"
   ]
  },
  {
   "cell_type": "code",
   "execution_count": null,
   "metadata": {},
   "outputs": [],
   "source": [
    "clients = opportunities.query('Организация_чистая in @list_companies')"
   ]
  },
  {
   "cell_type": "markdown",
   "metadata": {},
   "source": [
    "### Таблица со срезом возможностей, у которых совпадает название компании в обращениях"
   ]
  },
  {
   "cell_type": "code",
   "execution_count": null,
   "metadata": {},
   "outputs": [],
   "source": [
    "clients.to_csv('clients.csv', encoding='utf-8', index=False)"
   ]
  },
  {
   "cell_type": "code",
   "execution_count": null,
   "metadata": {},
   "outputs": [],
   "source": [
    "clients.info()"
   ]
  },
  {
   "cell_type": "code",
   "execution_count": null,
   "metadata": {},
   "outputs": [],
   "source": [
    "clients.head(13)"
   ]
  },
  {
   "cell_type": "markdown",
   "metadata": {},
   "source": [
    "### Список компаний, пришедших с сайта"
   ]
  },
  {
   "cell_type": "code",
   "execution_count": null,
   "metadata": {},
   "outputs": [],
   "source": [
    "clients['Организация']"
   ]
  },
  {
   "cell_type": "markdown",
   "metadata": {},
   "source": [
    "### Возможности, пришедших с сайта в разрезе услуг"
   ]
  },
  {
   "cell_type": "code",
   "execution_count": null,
   "metadata": {},
   "outputs": [],
   "source": [
    "pivot_clients = clients.pivot_table(index=['Услуга'], aggfunc={'Организация': 'nunique'})\n",
    "pivot_clients.columns=['Возможности']\n",
    "\n",
    "pivot_clients"
   ]
  },
  {
   "cell_type": "markdown",
   "metadata": {},
   "source": [
    "## Выигранные возможности"
   ]
  },
  {
   "cell_type": "code",
   "execution_count": null,
   "metadata": {},
   "outputs": [],
   "source": [
    "clients.query('Статус == \"Выиграна\"')['Организация'].count()"
   ]
  },
  {
   "cell_type": "code",
   "execution_count": null,
   "metadata": {},
   "outputs": [],
   "source": [
    "clients.query('Статус == \"Выиграна\"')['Организация']"
   ]
  },
  {
   "cell_type": "markdown",
   "metadata": {},
   "source": [
    "### Выигранные возможности в разрезе услуг"
   ]
  },
  {
   "cell_type": "code",
   "execution_count": null,
   "metadata": {},
   "outputs": [],
   "source": [
    "clients.query('Статус == \"Выиграна\"')['Услуга'].value_counts()"
   ]
  },
  {
   "cell_type": "markdown",
   "metadata": {},
   "source": [
    "### Указанный источник запроса в выигранных возможностях"
   ]
  },
  {
   "cell_type": "code",
   "execution_count": null,
   "metadata": {},
   "outputs": [],
   "source": [
    "clients.query('Статус == \"Выиграна\"')['Источник'].value_counts()"
   ]
  },
  {
   "cell_type": "markdown",
   "metadata": {},
   "source": [
    "## Стоимость контракта "
   ]
  },
  {
   "cell_type": "markdown",
   "metadata": {},
   "source": [
    "Загрузим таблицу `price` с данными о стоимости контрактов и причине победы"
   ]
  },
  {
   "cell_type": "code",
   "execution_count": null,
   "metadata": {},
   "outputs": [],
   "source": [
    "price = pd.read_excel('/Users/Olga/First attempt in Py/Site_rfp/contract_price_win.xlsx')\n",
    "price.to_csv('price.csv', encoding='utf-8', index=False)\n",
    "price.info()"
   ]
  },
  {
   "cell_type": "code",
   "execution_count": null,
   "metadata": {},
   "outputs": [],
   "source": [
    "price"
   ]
  },
  {
   "cell_type": "markdown",
   "metadata": {},
   "source": [
    "Объеденим список выигранных клиентов с данными о стоимости контракта"
   ]
  },
  {
   "cell_type": "code",
   "execution_count": null,
   "metadata": {},
   "outputs": [],
   "source": [
    "win = clients.query('Статус == \"Выиграна\"')['Организация']"
   ]
  },
  {
   "cell_type": "code",
   "execution_count": null,
   "metadata": {},
   "outputs": [],
   "source": [
    "opportunities_win = price.merge(win, on='Организация', how='left')\n",
    "opportunities_win"
   ]
  },
  {
   "cell_type": "markdown",
   "metadata": {},
   "source": [
    "### Сумма всех выигранных через обращение на сайта возможностей"
   ]
  },
  {
   "cell_type": "code",
   "execution_count": null,
   "metadata": {},
   "outputs": [],
   "source": [
    "opportunities_win['Стоимость услуг'].sum()"
   ]
  },
  {
   "cell_type": "markdown",
   "metadata": {},
   "source": [
    "### Средняя стоимость контракта"
   ]
  },
  {
   "cell_type": "code",
   "execution_count": null,
   "metadata": {},
   "outputs": [],
   "source": [
    "opportunities_win['Стоимость услуг'].mean()"
   ]
  },
  {
   "cell_type": "markdown",
   "metadata": {},
   "source": [
    "### Указаннная причина победы"
   ]
  },
  {
   "cell_type": "code",
   "execution_count": null,
   "metadata": {},
   "outputs": [],
   "source": [
    "opportunities_win.pivot_table(index=['Причина'], aggfunc={'Организация': 'nunique'})"
   ]
  },
  {
   "cell_type": "markdown",
   "metadata": {},
   "source": [
    "<a id=\"con\"></a>\n",
    "# Анализ конверсий "
   ]
  },
  {
   "cell_type": "markdown",
   "metadata": {},
   "source": [
    "### Количество возможностей в каждом месяце"
   ]
  },
  {
   "cell_type": "markdown",
   "metadata": {},
   "source": [
    "В таблице с возможностями выделим стобец с месяцем создания возможности"
   ]
  },
  {
   "cell_type": "code",
   "execution_count": null,
   "metadata": {},
   "outputs": [],
   "source": [
    "clients['Дата создания возможности'] = pd.to_datetime(clients['Создание'], format='%Y.%m.%d %H:%M:%S',infer_datetime_format=True)\n",
    "clients['Месяц'] = clients['Дата создания возможности'].dt.month"
   ]
  },
  {
   "cell_type": "code",
   "execution_count": null,
   "metadata": {},
   "outputs": [],
   "source": [
    "pivot_table_by_month_total_opportunities = clients.pivot_table(clients,index=['Месяц'], aggfunc={'Организация': 'nunique'}).reset_index()\n",
    "pivot_table_by_month_total_opportunities.columns=['Месяц', 'Количество возможностей']\n",
    "pivot_table_by_month_total_opportunities.sort_values(by = 'Месяц', ascending = True)"
   ]
  },
  {
   "cell_type": "markdown",
   "metadata": {},
   "source": [
    "Загрузим таблицу `site_traffic_05_09_20` с данными о посещениях сайта для расчета конверсии "
   ]
  },
  {
   "cell_type": "code",
   "execution_count": null,
   "metadata": {},
   "outputs": [],
   "source": [
    "traffic = pd.read_excel('/Users/Olga/First attempt in Py/Site_rfp/site_traffic_05_09_20.xlsx')\n",
    "\n",
    "traffic.to_csv('traffic.csv', encoding='utf-8', index=False)\n",
    "\n",
    "traffic"
   ]
  },
  {
   "cell_type": "markdown",
   "metadata": {},
   "source": [
    "Объеденим таблицу `pivot_table_by_month_total` с количеством обращений по месяцам с таблицей посещений по месяцам `traffic`"
   ]
  },
  {
   "cell_type": "code",
   "execution_count": null,
   "metadata": {},
   "outputs": [],
   "source": [
    "conversion = traffic.merge(pivot_table_by_month_total, on='Месяц', how='left')"
   ]
  },
  {
   "cell_type": "markdown",
   "metadata": {},
   "source": [
    "### Конверсия из посещений в запрос, % от общего количества посещений"
   ]
  },
  {
   "cell_type": "code",
   "execution_count": null,
   "metadata": {},
   "outputs": [],
   "source": [
    "conversion['Конверсия в обращение, %'] = ((conversion['Количество обращений']/conversion['Посещений'])*100)\n",
    "conversion\n"
   ]
  },
  {
   "cell_type": "markdown",
   "metadata": {},
   "source": [
    "### Конверсия из обращения в возможность, % от общего количества запросов"
   ]
  },
  {
   "cell_type": "code",
   "execution_count": null,
   "metadata": {},
   "outputs": [],
   "source": [
    "сonversion_to_opportunities = conversion.merge(pivot_table_by_month_total_opportunities, on='Месяц', how='left')\n",
    "сonversion_to_opportunities.replace(np.nan, 0, inplace=True)\n",
    "сonversion_to_opportunities['Конверсия в возможность, %'] = ((сonversion_to_opportunities['Количество возможностей']/сonversion_to_opportunities['Количество обращений'])*100).round(2)\n",
    "\n",
    "сonversion_to_opportunities"
   ]
  },
  {
   "cell_type": "markdown",
   "metadata": {},
   "source": [
    "### Количество выигранных возможностей в каждом месяце"
   ]
  },
  {
   "cell_type": "code",
   "execution_count": null,
   "metadata": {},
   "outputs": [],
   "source": [
    "pivot_table_by_month_total_clients = clients.query('Статус == \"Выиграна\"').pivot_table(index=['Месяц'], aggfunc={'Организация': 'nunique'}).reset_index()\n",
    "pivot_table_by_month_total_clients.columns=['Месяц', 'Количество выигранных возможностей']\n",
    "pivot_table_by_month_total_clients.sort_values(by = 'Месяц', ascending = True)"
   ]
  },
  {
   "cell_type": "markdown",
   "metadata": {},
   "source": [
    "### Конверсия в выигранную от общего количества обращений, %"
   ]
  },
  {
   "cell_type": "code",
   "execution_count": null,
   "metadata": {},
   "outputs": [],
   "source": [
    "сonversion_opportunities_win = сonversion_to_opportunities.merge(pivot_table_by_month_total_clients, on='Месяц', how='left')\n",
    "\n",
    "сonversion_opportunities_win['Конверсия в win, %'] = ((сonversion_opportunities_win['Количество выигранных возможностей']/сonversion_opportunities_win['Количество обращений'])*100).round(2)\n",
    "сonversion_opportunities_win.replace(np.nan, 0, inplace=True)"
   ]
  },
  {
   "cell_type": "markdown",
   "metadata": {},
   "source": [
    "## Итоговая таблица конверсий от общего количества обращений"
   ]
  },
  {
   "cell_type": "code",
   "execution_count": null,
   "metadata": {},
   "outputs": [],
   "source": [
    "сonversion_opportunities_win"
   ]
  },
  {
   "cell_type": "markdown",
   "metadata": {},
   "source": [
    "### График конверсий по месяцам"
   ]
  },
  {
   "cell_type": "code",
   "execution_count": null,
   "metadata": {},
   "outputs": [],
   "source": [
    "usfull_colums = ['Конверсия в обращение, %', 'Конверсия в возможность, %','Конверсия в win, %']"
   ]
  },
  {
   "cell_type": "code",
   "execution_count": null,
   "metadata": {},
   "outputs": [],
   "source": [
    "fig = px.line(сonversion_opportunities_win, x='Месяц', y=usfull_colums, title='Конверсии по месяцам',\n",
    "             labels= dict(x = \"Май, Июнь, Июль, Август, Сентябрь, Октябрь\", y= \"Процент конверсий\"))\n",
    "fig.show()"
   ]
  },
  {
   "cell_type": "markdown",
   "metadata": {},
   "source": [
    "## Воронка конверсий из обращений в выигранные возможности по усредненным данным за 6 месяцев"
   ]
  },
  {
   "cell_type": "code",
   "execution_count": null,
   "metadata": {},
   "outputs": [],
   "source": [
    "сonversion_opportunities_win.mean()"
   ]
  },
  {
   "cell_type": "code",
   "execution_count": null,
   "metadata": {},
   "outputs": [],
   "source": [
    "fig = go.Figure(go.Funnel(\n",
    "    y = [\"Количество обращений\", \"Количество возможностей\", \"Количество выигранных возможностей\"],\n",
    "    x = [XX, XX, XX], textinfo = \"value+percent initial\"))\n",
    "\n",
    "fig.update_layout(title={'text': \"Воронка для усредненных данных за 6 месяцев\"})\n",
    "\n",
    "fig.show()"
   ]
  },
  {
   "cell_type": "markdown",
   "metadata": {},
   "source": [
    "## Воронка конверсий из обращений в выигранные возможности помесячно¶"
   ]
  },
  {
   "cell_type": "code",
   "execution_count": null,
   "metadata": {},
   "outputs": [],
   "source": [
    "fig = go.Figure()\n",
    "\n",
    "fig.add_trace(go.Funnel(\n",
    "    name = 'Май',\n",
    "    y = [\"Количество обращений\", \"Количество возможностей\", \"Количество выигранных возможностей\"],\n",
    "    x = [XX, XX, XX],\n",
    "    textinfo = \"value+percent initial\"))\n",
    "\n",
    "fig.add_trace(go.Funnel(\n",
    "    name = 'Июнь',\n",
    "    orientation = \"h\",\n",
    "    y = [\"Количество обращений\", \"Количество возможностей\", \"Количество выигранных возможностей\"],\n",
    "    x = [XX, XX, XX],\n",
    "    textposition = \"outside\",\n",
    "    textinfo = \"value+percent previous\"))\n",
    "\n",
    "fig.add_trace(go.Funnel(\n",
    "    name = 'Июль',\n",
    "    orientation = \"h\",\n",
    "    y = [\"Количество обращений\", \"Количество возможностей\", \"Количество выигранных возможностей\"],\n",
    "    x = [XX, XX, XX],\n",
    "    textposition = \"outside\",\n",
    "    textinfo = \"value+percent total\"))\n",
    "\n",
    "fig.add_trace(go.Funnel(\n",
    "    name = 'Август',\n",
    "    orientation = \"h\",\n",
    "    y = [\"Количество обращений\", \"Количество возможностей\", \"Количество выигранных возможностей\"],\n",
    "    x = [XX, XX, XX],\n",
    "    textposition = \"outside\",\n",
    "    textinfo = \"value+percent total\"))\n",
    "\n",
    "fig.add_trace(go.Funnel(\n",
    "    name = 'Сентябрь',\n",
    "    orientation = \"h\",\n",
    "    y = [\"Количество обращений\", \"Количество возможностей\", \"Количество выигранных возможностей\"],\n",
    "    x = [XX, XX, XX],\n",
    "    textposition = \"outside\",\n",
    "    textinfo = \"value+percent total\"))\n",
    "\n",
    "fig.add_trace(go.Funnel(\n",
    "    name = 'Октябрь',\n",
    "    orientation = \"h\",\n",
    "    y = [\"Количество обращений\", \"Количество возможностей\", \"Количество выигранных возможностей\"],\n",
    "    x = [XX, XX, XX],\n",
    "    textposition = \"outside\",\n",
    "    textinfo = \"value+percent total\"))\n",
    "\n",
    "fig.update_layout(title={'text': \"Воронка помесячная\"})\n",
    "\n",
    "fig.show()\n"
   ]
  }
 ],
 "metadata": {
  "kernelspec": {
   "display_name": "Python 3",
   "language": "python",
   "name": "python3"
  },
  "language_info": {
   "codemirror_mode": {
    "name": "ipython",
    "version": 3
   },
   "file_extension": ".py",
   "mimetype": "text/x-python",
   "name": "python",
   "nbconvert_exporter": "python",
   "pygments_lexer": "ipython3",
   "version": "3.7.3"
  }
 },
 "nbformat": 4,
 "nbformat_minor": 2
}
